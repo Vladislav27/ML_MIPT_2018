{
 "cells": [
  {
   "cell_type": "code",
   "execution_count": 66,
   "metadata": {
    "collapsed": true
   },
   "outputs": [],
   "source": [
    "import re\n",
    "import numpy as np\n",
    "import pandas as pd\n",
    "\n",
    "from sklearn.linear_model import SGDClassifier\n",
    "from sklearn.svm import SVC, LinearSVC\n",
    "from sklearn.linear_model import LogisticRegression\n",
    "\n",
    "from sklearn.metrics import accuracy_score, roc_auc_score\n",
    "from sklearn.model_selection import cross_val_score, GridSearchCV, ShuffleSplit\n",
    "\n",
    "%matplotlib inline"
   ]
  },
  {
   "cell_type": "markdown",
   "metadata": {},
   "source": [
    "# Import Data"
   ]
  },
  {
   "cell_type": "code",
   "execution_count": 67,
   "metadata": {},
   "outputs": [
    {
     "data": {
      "text/html": [
       "<div>\n",
       "<style>\n",
       "    .dataframe thead tr:only-child th {\n",
       "        text-align: right;\n",
       "    }\n",
       "\n",
       "    .dataframe thead th {\n",
       "        text-align: left;\n",
       "    }\n",
       "\n",
       "    .dataframe tbody tr th {\n",
       "        vertical-align: top;\n",
       "    }\n",
       "</style>\n",
       "<table border=\"1\" class=\"dataframe\">\n",
       "  <thead>\n",
       "    <tr style=\"text-align: right;\">\n",
       "      <th></th>\n",
       "      <th>label</th>\n",
       "      <th>feat1</th>\n",
       "      <th>feat2</th>\n",
       "      <th>feat3</th>\n",
       "      <th>feat4</th>\n",
       "      <th>feat5</th>\n",
       "      <th>feat6</th>\n",
       "      <th>feat7</th>\n",
       "      <th>feat8</th>\n",
       "      <th>feat9</th>\n",
       "      <th>...</th>\n",
       "      <th>feat207</th>\n",
       "      <th>feat208</th>\n",
       "      <th>feat209</th>\n",
       "      <th>feat210</th>\n",
       "      <th>feat211</th>\n",
       "      <th>feat212</th>\n",
       "      <th>feat213</th>\n",
       "      <th>feat214</th>\n",
       "      <th>feat215</th>\n",
       "      <th>feat216</th>\n",
       "    </tr>\n",
       "  </thead>\n",
       "  <tbody>\n",
       "    <tr>\n",
       "      <th>0</th>\n",
       "      <td>1</td>\n",
       "      <td>7</td>\n",
       "      <td>0</td>\n",
       "      <td>3</td>\n",
       "      <td>0</td>\n",
       "      <td>2</td>\n",
       "      <td>3</td>\n",
       "      <td>0</td>\n",
       "      <td>6</td>\n",
       "      <td>0</td>\n",
       "      <td>...</td>\n",
       "      <td>3</td>\n",
       "      <td>4</td>\n",
       "      <td>2</td>\n",
       "      <td>2</td>\n",
       "      <td>0</td>\n",
       "      <td>13</td>\n",
       "      <td>0</td>\n",
       "      <td>11</td>\n",
       "      <td>1</td>\n",
       "      <td>3</td>\n",
       "    </tr>\n",
       "    <tr>\n",
       "      <th>1</th>\n",
       "      <td>1</td>\n",
       "      <td>0</td>\n",
       "      <td>11</td>\n",
       "      <td>0</td>\n",
       "      <td>0</td>\n",
       "      <td>10</td>\n",
       "      <td>1</td>\n",
       "      <td>0</td>\n",
       "      <td>0</td>\n",
       "      <td>4</td>\n",
       "      <td>...</td>\n",
       "      <td>0</td>\n",
       "      <td>2</td>\n",
       "      <td>0</td>\n",
       "      <td>0</td>\n",
       "      <td>2</td>\n",
       "      <td>8</td>\n",
       "      <td>1</td>\n",
       "      <td>13</td>\n",
       "      <td>0</td>\n",
       "      <td>4</td>\n",
       "    </tr>\n",
       "    <tr>\n",
       "      <th>2</th>\n",
       "      <td>0</td>\n",
       "      <td>9</td>\n",
       "      <td>0</td>\n",
       "      <td>3</td>\n",
       "      <td>0</td>\n",
       "      <td>1</td>\n",
       "      <td>3</td>\n",
       "      <td>0</td>\n",
       "      <td>4</td>\n",
       "      <td>0</td>\n",
       "      <td>...</td>\n",
       "      <td>48</td>\n",
       "      <td>11</td>\n",
       "      <td>2</td>\n",
       "      <td>0</td>\n",
       "      <td>0</td>\n",
       "      <td>4</td>\n",
       "      <td>0</td>\n",
       "      <td>2</td>\n",
       "      <td>0</td>\n",
       "      <td>0</td>\n",
       "    </tr>\n",
       "    <tr>\n",
       "      <th>3</th>\n",
       "      <td>0</td>\n",
       "      <td>0</td>\n",
       "      <td>9</td>\n",
       "      <td>3</td>\n",
       "      <td>2</td>\n",
       "      <td>25</td>\n",
       "      <td>0</td>\n",
       "      <td>4</td>\n",
       "      <td>0</td>\n",
       "      <td>0</td>\n",
       "      <td>...</td>\n",
       "      <td>1</td>\n",
       "      <td>14</td>\n",
       "      <td>1</td>\n",
       "      <td>0</td>\n",
       "      <td>0</td>\n",
       "      <td>0</td>\n",
       "      <td>3</td>\n",
       "      <td>0</td>\n",
       "      <td>17</td>\n",
       "      <td>1</td>\n",
       "    </tr>\n",
       "    <tr>\n",
       "      <th>4</th>\n",
       "      <td>0</td>\n",
       "      <td>0</td>\n",
       "      <td>0</td>\n",
       "      <td>0</td>\n",
       "      <td>0</td>\n",
       "      <td>2</td>\n",
       "      <td>5</td>\n",
       "      <td>0</td>\n",
       "      <td>0</td>\n",
       "      <td>0</td>\n",
       "      <td>...</td>\n",
       "      <td>3</td>\n",
       "      <td>12</td>\n",
       "      <td>0</td>\n",
       "      <td>3</td>\n",
       "      <td>0</td>\n",
       "      <td>4</td>\n",
       "      <td>0</td>\n",
       "      <td>24</td>\n",
       "      <td>4</td>\n",
       "      <td>0</td>\n",
       "    </tr>\n",
       "  </tbody>\n",
       "</table>\n",
       "<p>5 rows × 217 columns</p>\n",
       "</div>"
      ],
      "text/plain": [
       "   label  feat1  feat2  feat3  feat4  feat5  feat6  feat7  feat8  feat9  \\\n",
       "0      1      7      0      3      0      2      3      0      6      0   \n",
       "1      1      0     11      0      0     10      1      0      0      4   \n",
       "2      0      9      0      3      0      1      3      0      4      0   \n",
       "3      0      0      9      3      2     25      0      4      0      0   \n",
       "4      0      0      0      0      0      2      5      0      0      0   \n",
       "\n",
       "    ...     feat207  feat208  feat209  feat210  feat211  feat212  feat213  \\\n",
       "0   ...           3        4        2        2        0       13        0   \n",
       "1   ...           0        2        0        0        2        8        1   \n",
       "2   ...          48       11        2        0        0        4        0   \n",
       "3   ...           1       14        1        0        0        0        3   \n",
       "4   ...           3       12        0        3        0        4        0   \n",
       "\n",
       "   feat214  feat215  feat216  \n",
       "0       11        1        3  \n",
       "1       13        0        4  \n",
       "2        2        0        0  \n",
       "3        0       17        1  \n",
       "4       24        4        0  \n",
       "\n",
       "[5 rows x 217 columns]"
      ]
     },
     "execution_count": 67,
     "metadata": {},
     "output_type": "execute_result"
    }
   ],
   "source": [
    "data = pd.read_csv('Desktop/ML/data/Task5.2/train.csv')\n",
    "data.drop('id', axis = 1, inplace = True)\n",
    "X_train = np.asarray(data[data.columns[range(1, data.shape[1])]], dtype = np.double)\n",
    "Y_train = np.asarray(data[['label']], dtype = np.double).ravel()\n",
    "data.head()"
   ]
  },
  {
   "cell_type": "code",
   "execution_count": 68,
   "metadata": {},
   "outputs": [
    {
     "data": {
      "text/html": [
       "<div>\n",
       "<style>\n",
       "    .dataframe thead tr:only-child th {\n",
       "        text-align: right;\n",
       "    }\n",
       "\n",
       "    .dataframe thead th {\n",
       "        text-align: left;\n",
       "    }\n",
       "\n",
       "    .dataframe tbody tr th {\n",
       "        vertical-align: top;\n",
       "    }\n",
       "</style>\n",
       "<table border=\"1\" class=\"dataframe\">\n",
       "  <thead>\n",
       "    <tr style=\"text-align: right;\">\n",
       "      <th></th>\n",
       "      <th>feat1</th>\n",
       "      <th>feat2</th>\n",
       "      <th>feat3</th>\n",
       "      <th>feat4</th>\n",
       "      <th>feat5</th>\n",
       "      <th>feat6</th>\n",
       "      <th>feat7</th>\n",
       "      <th>feat8</th>\n",
       "      <th>feat9</th>\n",
       "      <th>feat10</th>\n",
       "      <th>...</th>\n",
       "      <th>feat207</th>\n",
       "      <th>feat208</th>\n",
       "      <th>feat209</th>\n",
       "      <th>feat210</th>\n",
       "      <th>feat211</th>\n",
       "      <th>feat212</th>\n",
       "      <th>feat213</th>\n",
       "      <th>feat214</th>\n",
       "      <th>feat215</th>\n",
       "      <th>feat216</th>\n",
       "    </tr>\n",
       "    <tr>\n",
       "      <th>label</th>\n",
       "      <th></th>\n",
       "      <th></th>\n",
       "      <th></th>\n",
       "      <th></th>\n",
       "      <th></th>\n",
       "      <th></th>\n",
       "      <th></th>\n",
       "      <th></th>\n",
       "      <th></th>\n",
       "      <th></th>\n",
       "      <th></th>\n",
       "      <th></th>\n",
       "      <th></th>\n",
       "      <th></th>\n",
       "      <th></th>\n",
       "      <th></th>\n",
       "      <th></th>\n",
       "      <th></th>\n",
       "      <th></th>\n",
       "      <th></th>\n",
       "      <th></th>\n",
       "    </tr>\n",
       "  </thead>\n",
       "  <tbody>\n",
       "    <tr>\n",
       "      <th>0</th>\n",
       "      <td>327</td>\n",
       "      <td>327</td>\n",
       "      <td>327</td>\n",
       "      <td>327</td>\n",
       "      <td>327</td>\n",
       "      <td>327</td>\n",
       "      <td>327</td>\n",
       "      <td>327</td>\n",
       "      <td>327</td>\n",
       "      <td>327</td>\n",
       "      <td>...</td>\n",
       "      <td>327</td>\n",
       "      <td>327</td>\n",
       "      <td>327</td>\n",
       "      <td>327</td>\n",
       "      <td>327</td>\n",
       "      <td>327</td>\n",
       "      <td>327</td>\n",
       "      <td>327</td>\n",
       "      <td>327</td>\n",
       "      <td>327</td>\n",
       "    </tr>\n",
       "    <tr>\n",
       "      <th>1</th>\n",
       "      <td>573</td>\n",
       "      <td>573</td>\n",
       "      <td>573</td>\n",
       "      <td>573</td>\n",
       "      <td>573</td>\n",
       "      <td>573</td>\n",
       "      <td>573</td>\n",
       "      <td>573</td>\n",
       "      <td>573</td>\n",
       "      <td>573</td>\n",
       "      <td>...</td>\n",
       "      <td>573</td>\n",
       "      <td>573</td>\n",
       "      <td>573</td>\n",
       "      <td>573</td>\n",
       "      <td>573</td>\n",
       "      <td>573</td>\n",
       "      <td>573</td>\n",
       "      <td>573</td>\n",
       "      <td>573</td>\n",
       "      <td>573</td>\n",
       "    </tr>\n",
       "  </tbody>\n",
       "</table>\n",
       "<p>2 rows × 216 columns</p>\n",
       "</div>"
      ],
      "text/plain": [
       "       feat1  feat2  feat3  feat4  feat5  feat6  feat7  feat8  feat9  feat10  \\\n",
       "label                                                                          \n",
       "0        327    327    327    327    327    327    327    327    327     327   \n",
       "1        573    573    573    573    573    573    573    573    573     573   \n",
       "\n",
       "        ...     feat207  feat208  feat209  feat210  feat211  feat212  feat213  \\\n",
       "label   ...                                                                     \n",
       "0       ...         327      327      327      327      327      327      327   \n",
       "1       ...         573      573      573      573      573      573      573   \n",
       "\n",
       "       feat214  feat215  feat216  \n",
       "label                             \n",
       "0          327      327      327  \n",
       "1          573      573      573  \n",
       "\n",
       "[2 rows x 216 columns]"
      ]
     },
     "execution_count": 68,
     "metadata": {},
     "output_type": "execute_result"
    }
   ],
   "source": [
    "data.groupby(['label']).count()"
   ]
  },
  {
   "cell_type": "markdown",
   "metadata": {},
   "source": [
    "# Fit Methods"
   ]
  },
  {
   "cell_type": "code",
   "execution_count": 69,
   "metadata": {
    "collapsed": true
   },
   "outputs": [],
   "source": [
    "estimators = [\n",
    "    SGDClassifier(max_iter=5000, tol=0.1, penalty='l1', alpha=0.1),\n",
    "    SVC(kernel='rbf', C = 0.1, gamma=2),\n",
    "    LinearSVC(penalty = 'l2', dual=False), \n",
    "    LogisticRegression(penalty='l1', C=0.2),\n",
    "]"
   ]
  },
  {
   "cell_type": "code",
   "execution_count": 70,
   "metadata": {},
   "outputs": [
    {
     "name": "stdout",
     "output_type": "stream",
     "text": [
      "CPU times: user 438 ms, sys: 3.17 ms, total: 441 ms\n",
      "Wall time: 439 ms\n",
      "SGDClassifier 0.858 0.0260\n",
      "CPU times: user 1.54 s, sys: 6.32 ms, total: 1.55 s\n",
      "Wall time: 1.55 s\n",
      "SVC 0.877 0.0171\n",
      "CPU times: user 4.55 s, sys: 16.4 ms, total: 4.57 s\n",
      "Wall time: 4.58 s\n",
      "LinearSVC 0.913 0.0149\n",
      "CPU times: user 887 ms, sys: 16.2 ms, total: 904 ms\n",
      "Wall time: 899 ms\n",
      "LogisticRegression 0.923 0.0189\n"
     ]
    }
   ],
   "source": [
    "cv_strategy = ShuffleSplit(n_splits=10, test_size=0.2, random_state=33)\n",
    "for estimator in estimators:\n",
    "    %time scoring = cross_val_score(estimator, X_train, Y_train, scoring='roc_auc', cv=cv_strategy)\n",
    "    print ('%s %.3lf' % (str(estimator).replace('(',' ').split()[0], scoring.mean()), '%.4lf' % scoring.std())"
   ]
  },
  {
   "cell_type": "code",
   "execution_count": 71,
   "metadata": {
    "collapsed": true
   },
   "outputs": [],
   "source": [
    "C_var = [0.2 * i for i in range(1, 5, 1)]\n",
    "max_iter_var = range(40, 200, 20)\n",
    "estimators = []\n",
    "\n",
    "for c in C_var:\n",
    "    for m in max_iter_var:\n",
    "        estimators.append(LogisticRegression(penalty='l2', dual=False, tol=0.0001, C=c, fit_intercept=True,\n",
    "                                             intercept_scaling=1, class_weight=None, random_state=None,\n",
    "                                             solver='liblinear', max_iter=m, multi_class='ovr', \n",
    "                                             verbose=0, warm_start=False, n_jobs=1))"
   ]
  },
  {
   "cell_type": "code",
   "execution_count": 73,
   "metadata": {
    "collapsed": true
   },
   "outputs": [],
   "source": [
    "answer1 = []\n",
    "answer2 = []\n",
    "ans_estimator = []\n",
    "\n",
    "cv_strategy = ShuffleSplit(n_splits=5, test_size=0.3, random_state=33)\n",
    "for estimator in estimators:\n",
    "    scoring = cross_val_score(estimator, X_train, Y_train, cv=cv_strategy)\n",
    "    answer1.append(scoring.mean())\n",
    "    answer2.append(scoring.std())\n",
    "    ans_estimator.append(estimator)"
   ]
  },
  {
   "cell_type": "code",
   "execution_count": 74,
   "metadata": {},
   "outputs": [
    {
     "name": "stdout",
     "output_type": "stream",
     "text": [
      "0.888888888888889\n"
     ]
    }
   ],
   "source": [
    "print(answer1[answer1.index(max(answer1))])"
   ]
  },
  {
   "cell_type": "code",
   "execution_count": 77,
   "metadata": {},
   "outputs": [
    {
     "name": "stdout",
     "output_type": "stream",
     "text": [
      "8\n",
      "0.022148024278112678\n"
     ]
    }
   ],
   "source": [
    "indexes = []\n",
    "\n",
    "for i in range(len(answer1)):\n",
    "    if answer1[i] > 0.8:\n",
    "        indexes.append(i)\n",
    "\n",
    "minimum = 1\n",
    "ind_min = None\n",
    "for ind in indexes:\n",
    "    if answer2[ind] < minimum:\n",
    "        minimum = answer2[ind]\n",
    "        ind_min = ind\n",
    "        \n",
    "print(ind_min)\n",
    "print(answer2[ind_min])"
   ]
  },
  {
   "cell_type": "markdown",
   "metadata": {},
   "source": [
    "# Get final classifier"
   ]
  },
  {
   "cell_type": "code",
   "execution_count": 78,
   "metadata": {},
   "outputs": [
    {
     "data": {
      "text/plain": [
       "LogisticRegression(C=1.0, class_weight=None, dual=False, fit_intercept=True,\n",
       "          intercept_scaling=1, max_iter=100, multi_class='ovr', n_jobs=1,\n",
       "          penalty='l2', random_state=None, solver='liblinear', tol=0.0001,\n",
       "          verbose=0, warm_start=False)"
      ]
     },
     "execution_count": 78,
     "metadata": {},
     "output_type": "execute_result"
    }
   ],
   "source": [
    "estimator = LogisticRegression(C=1.0, class_weight=None, dual=False, fit_intercept=True,\n",
    "                               intercept_scaling=1, max_iter=100, multi_class='ovr', n_jobs=1,\n",
    "                               penalty='l2', random_state=None, solver='liblinear', tol=0.0001,\n",
    "                               verbose=0, warm_start=False)\n",
    "estimator.fit(X_train, Y_train)"
   ]
  },
  {
   "cell_type": "markdown",
   "metadata": {},
   "source": [
    "# Test data estimation"
   ]
  },
  {
   "cell_type": "code",
   "execution_count": 79,
   "metadata": {
    "collapsed": true
   },
   "outputs": [],
   "source": [
    "test = pd.read_csv('Desktop/ML/data/Task5.2/test.csv')\n",
    "X_test = np.asarray(test[test.columns[range(1, test.shape[1])]])"
   ]
  },
  {
   "cell_type": "code",
   "execution_count": 80,
   "metadata": {},
   "outputs": [
    {
     "data": {
      "text/plain": [
       "array([[ 4,  2,  2, ...,  6,  2,  3],\n",
       "       [ 3,  3,  0, ..., 27,  2,  0],\n",
       "       [ 0,  0,  0, ...,  5,  1,  1],\n",
       "       ...,\n",
       "       [ 1,  1,  0, ..., 36,  0,  2],\n",
       "       [ 1,  3,  2, ..., 35,  1,  0],\n",
       "       [ 0,  2,  3, ..., 15,  0,  0]])"
      ]
     },
     "execution_count": 80,
     "metadata": {},
     "output_type": "execute_result"
    }
   ],
   "source": [
    "X_test"
   ]
  },
  {
   "cell_type": "code",
   "execution_count": 81,
   "metadata": {
    "collapsed": true
   },
   "outputs": [],
   "source": [
    "test_predict=estimator.predict(X_test)"
   ]
  },
  {
   "cell_type": "code",
   "execution_count": 82,
   "metadata": {
    "collapsed": true
   },
   "outputs": [],
   "source": [
    "def submit(preds):\n",
    "    submission = pd.read_csv(\"Desktop/ML/data/Task5.2/sample_submission.csv\")\n",
    "    submission['label'] = preds\n",
    "    submission.to_csv(\"Desktop/ML/data/Task5.2/submission4.csv\", index=False)"
   ]
  },
  {
   "cell_type": "code",
   "execution_count": 83,
   "metadata": {
    "collapsed": true
   },
   "outputs": [],
   "source": [
    "submit(test_predict)"
   ]
  },
  {
   "cell_type": "code",
   "execution_count": 84,
   "metadata": {},
   "outputs": [
    {
     "name": "stdout",
     "output_type": "stream",
     "text": [
      "id,label\r\n",
      "1,1.0\r\n",
      "2,1.0\r\n",
      "3,0.0\r\n",
      "4,1.0\r\n",
      "5,1.0\r\n",
      "6,1.0\r\n",
      "7,1.0\r\n",
      "8,1.0\r\n",
      "9,1.0\r\n"
     ]
    }
   ],
   "source": [
    "!head Desktop/ML/data/Task5.2/submission4.csv"
   ]
  }
 ],
 "metadata": {
  "kernelspec": {
   "display_name": "Python 3",
   "language": "python",
   "name": "python3"
  },
  "language_info": {
   "codemirror_mode": {
    "name": "ipython",
    "version": 3
   },
   "file_extension": ".py",
   "mimetype": "text/x-python",
   "name": "python",
   "nbconvert_exporter": "python",
   "pygments_lexer": "ipython3",
   "version": "3.6.2"
  }
 },
 "nbformat": 4,
 "nbformat_minor": 1
}
